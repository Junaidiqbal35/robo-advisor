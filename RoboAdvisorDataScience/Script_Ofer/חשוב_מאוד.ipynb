{
  "nbformat": 4,
  "nbformat_minor": 0,
  "metadata": {
    "colab": {
      "provenance": []
    },
    "kernelspec": {
      "name": "python3",
      "display_name": "Python 3"
    },
    "language_info": {
      "name": "python"
    }
  },
  "cells": [
    {
      "cell_type": "code",
      "metadata": {
        "colab": {
          "base_uri": "https://localhost:8080/"
        },
        "id": "SJeLzsM0qaYp",
        "outputId": "8c9d6caa-6bf3-41c1-e567-f595d03a2f46"
      },
      "source": [
        "!pip install matplotlib\n",
        "!pip install yfinance\n",
        "!pip install seaborn\n",
        "!pip install numpy\n",
        "from pandas_datareader import data as pdr\n",
        "import yfinance as yf\n",
        "import numpy as np\n",
        "import matplotlib.pyplot as plt\n",
        "import requests\n",
        "import pandas as pd\n",
        "import matplotlib.pyplot as plt\n",
        "import numpy\n",
        "\n",
        "\n",
        "\n",
        "import datetime\n",
        "import seaborn\n",
        "\n",
        "from __future__ import (absolute_import , division , print_function, unicode_literals)\n",
        "%pip install backtrader\n",
        "%pip install datetime\n",
        "%pip install matplotlib\n",
        "%pip install PyQt5\n",
        "import matplotlib\n",
        "import matplotlib.pyplot as plt\n",
        "import backtrader as bt\n",
        "from datetime import datetime\n",
        "import backtrader.plot \n",
        "import PyQt5\n",
        "\n",
        "\n"
      ],
      "execution_count": null,
      "outputs": [
        {
          "output_type": "stream",
          "name": "stdout",
          "text": [
            "Requirement already satisfied: matplotlib in /usr/local/lib/python3.7/dist-packages (3.2.2)\n",
            "Requirement already satisfied: cycler>=0.10 in /usr/local/lib/python3.7/dist-packages (from matplotlib) (0.11.0)\n",
            "Requirement already satisfied: kiwisolver>=1.0.1 in /usr/local/lib/python3.7/dist-packages (from matplotlib) (1.4.2)\n",
            "Requirement already satisfied: python-dateutil>=2.1 in /usr/local/lib/python3.7/dist-packages (from matplotlib) (2.8.2)\n",
            "Requirement already satisfied: pyparsing!=2.0.4,!=2.1.2,!=2.1.6,>=2.0.1 in /usr/local/lib/python3.7/dist-packages (from matplotlib) (3.0.8)\n",
            "Requirement already satisfied: numpy>=1.11 in /usr/local/lib/python3.7/dist-packages (from matplotlib) (1.21.6)\n",
            "Requirement already satisfied: typing-extensions in /usr/local/lib/python3.7/dist-packages (from kiwisolver>=1.0.1->matplotlib) (4.2.0)\n",
            "Requirement already satisfied: six>=1.5 in /usr/local/lib/python3.7/dist-packages (from python-dateutil>=2.1->matplotlib) (1.15.0)\n",
            "Collecting yfinance\n",
            "  Downloading yfinance-0.1.70-py2.py3-none-any.whl (26 kB)\n",
            "Requirement already satisfied: pandas>=0.24.0 in /usr/local/lib/python3.7/dist-packages (from yfinance) (1.3.5)\n",
            "Collecting requests>=2.26\n",
            "  Downloading requests-2.27.1-py2.py3-none-any.whl (63 kB)\n",
            "\u001b[K     |████████████████████████████████| 63 kB 1.0 MB/s \n",
            "\u001b[?25hRequirement already satisfied: numpy>=1.15 in /usr/local/lib/python3.7/dist-packages (from yfinance) (1.21.6)\n",
            "Requirement already satisfied: multitasking>=0.0.7 in /usr/local/lib/python3.7/dist-packages (from yfinance) (0.0.10)\n",
            "Collecting lxml>=4.5.1\n",
            "  Downloading lxml-4.8.0-cp37-cp37m-manylinux_2_17_x86_64.manylinux2014_x86_64.manylinux_2_24_x86_64.whl (6.4 MB)\n",
            "\u001b[K     |████████████████████████████████| 6.4 MB 11.9 MB/s \n",
            "\u001b[?25hRequirement already satisfied: pytz>=2017.3 in /usr/local/lib/python3.7/dist-packages (from pandas>=0.24.0->yfinance) (2022.1)\n",
            "Requirement already satisfied: python-dateutil>=2.7.3 in /usr/local/lib/python3.7/dist-packages (from pandas>=0.24.0->yfinance) (2.8.2)\n",
            "Requirement already satisfied: six>=1.5 in /usr/local/lib/python3.7/dist-packages (from python-dateutil>=2.7.3->pandas>=0.24.0->yfinance) (1.15.0)\n",
            "Requirement already satisfied: charset-normalizer~=2.0.0 in /usr/local/lib/python3.7/dist-packages (from requests>=2.26->yfinance) (2.0.12)\n",
            "Requirement already satisfied: idna<4,>=2.5 in /usr/local/lib/python3.7/dist-packages (from requests>=2.26->yfinance) (2.10)\n",
            "Requirement already satisfied: urllib3<1.27,>=1.21.1 in /usr/local/lib/python3.7/dist-packages (from requests>=2.26->yfinance) (1.24.3)\n",
            "Requirement already satisfied: certifi>=2017.4.17 in /usr/local/lib/python3.7/dist-packages (from requests>=2.26->yfinance) (2021.10.8)\n",
            "Installing collected packages: requests, lxml, yfinance\n",
            "  Attempting uninstall: requests\n",
            "    Found existing installation: requests 2.23.0\n",
            "    Uninstalling requests-2.23.0:\n",
            "      Successfully uninstalled requests-2.23.0\n",
            "  Attempting uninstall: lxml\n",
            "    Found existing installation: lxml 4.2.6\n",
            "    Uninstalling lxml-4.2.6:\n",
            "      Successfully uninstalled lxml-4.2.6\n",
            "\u001b[31mERROR: pip's dependency resolver does not currently take into account all the packages that are installed. This behaviour is the source of the following dependency conflicts.\n",
            "google-colab 1.0.0 requires requests~=2.23.0, but you have requests 2.27.1 which is incompatible.\n",
            "datascience 0.10.6 requires folium==0.2.1, but you have folium 0.8.3 which is incompatible.\u001b[0m\n",
            "Successfully installed lxml-4.8.0 requests-2.27.1 yfinance-0.1.70\n",
            "Requirement already satisfied: seaborn in /usr/local/lib/python3.7/dist-packages (0.11.2)\n",
            "Requirement already satisfied: scipy>=1.0 in /usr/local/lib/python3.7/dist-packages (from seaborn) (1.4.1)\n",
            "Requirement already satisfied: numpy>=1.15 in /usr/local/lib/python3.7/dist-packages (from seaborn) (1.21.6)\n",
            "Requirement already satisfied: matplotlib>=2.2 in /usr/local/lib/python3.7/dist-packages (from seaborn) (3.2.2)\n",
            "Requirement already satisfied: pandas>=0.23 in /usr/local/lib/python3.7/dist-packages (from seaborn) (1.3.5)\n",
            "Requirement already satisfied: kiwisolver>=1.0.1 in /usr/local/lib/python3.7/dist-packages (from matplotlib>=2.2->seaborn) (1.4.2)\n",
            "Requirement already satisfied: python-dateutil>=2.1 in /usr/local/lib/python3.7/dist-packages (from matplotlib>=2.2->seaborn) (2.8.2)\n",
            "Requirement already satisfied: pyparsing!=2.0.4,!=2.1.2,!=2.1.6,>=2.0.1 in /usr/local/lib/python3.7/dist-packages (from matplotlib>=2.2->seaborn) (3.0.8)\n",
            "Requirement already satisfied: cycler>=0.10 in /usr/local/lib/python3.7/dist-packages (from matplotlib>=2.2->seaborn) (0.11.0)\n",
            "Requirement already satisfied: typing-extensions in /usr/local/lib/python3.7/dist-packages (from kiwisolver>=1.0.1->matplotlib>=2.2->seaborn) (4.2.0)\n",
            "Requirement already satisfied: pytz>=2017.3 in /usr/local/lib/python3.7/dist-packages (from pandas>=0.23->seaborn) (2022.1)\n",
            "Requirement already satisfied: six>=1.5 in /usr/local/lib/python3.7/dist-packages (from python-dateutil>=2.1->matplotlib>=2.2->seaborn) (1.15.0)\n",
            "Requirement already satisfied: numpy in /usr/local/lib/python3.7/dist-packages (1.21.6)\n",
            "Collecting backtrader\n",
            "  Downloading backtrader-1.9.76.123-py2.py3-none-any.whl (410 kB)\n",
            "\u001b[K     |████████████████████████████████| 410 kB 5.1 MB/s \n",
            "\u001b[?25hInstalling collected packages: backtrader\n",
            "Successfully installed backtrader-1.9.76.123\n",
            "Collecting datetime\n",
            "  Downloading DateTime-4.4-py2.py3-none-any.whl (51 kB)\n",
            "\u001b[K     |████████████████████████████████| 51 kB 452 kB/s \n",
            "\u001b[?25hCollecting zope.interface\n",
            "  Downloading zope.interface-5.4.0-cp37-cp37m-manylinux2010_x86_64.whl (251 kB)\n",
            "\u001b[K     |████████████████████████████████| 251 kB 9.8 MB/s \n",
            "\u001b[?25hRequirement already satisfied: pytz in /usr/local/lib/python3.7/dist-packages (from datetime) (2022.1)\n",
            "Requirement already satisfied: setuptools in /usr/local/lib/python3.7/dist-packages (from zope.interface->datetime) (57.4.0)\n",
            "Installing collected packages: zope.interface, datetime\n",
            "Successfully installed datetime-4.4 zope.interface-5.4.0\n",
            "Requirement already satisfied: matplotlib in /usr/local/lib/python3.7/dist-packages (3.2.2)\n",
            "Requirement already satisfied: cycler>=0.10 in /usr/local/lib/python3.7/dist-packages (from matplotlib) (0.11.0)\n",
            "Requirement already satisfied: numpy>=1.11 in /usr/local/lib/python3.7/dist-packages (from matplotlib) (1.21.6)\n",
            "Requirement already satisfied: kiwisolver>=1.0.1 in /usr/local/lib/python3.7/dist-packages (from matplotlib) (1.4.2)\n",
            "Requirement already satisfied: python-dateutil>=2.1 in /usr/local/lib/python3.7/dist-packages (from matplotlib) (2.8.2)\n",
            "Requirement already satisfied: pyparsing!=2.0.4,!=2.1.2,!=2.1.6,>=2.0.1 in /usr/local/lib/python3.7/dist-packages (from matplotlib) (3.0.8)\n",
            "Requirement already satisfied: typing-extensions in /usr/local/lib/python3.7/dist-packages (from kiwisolver>=1.0.1->matplotlib) (4.2.0)\n",
            "Requirement already satisfied: six>=1.5 in /usr/local/lib/python3.7/dist-packages (from python-dateutil>=2.1->matplotlib) (1.15.0)\n",
            "Collecting PyQt5\n",
            "  Downloading PyQt5-5.15.6-cp36-abi3-manylinux1_x86_64.whl (8.3 MB)\n",
            "\u001b[K     |████████████████████████████████| 8.3 MB 5.4 MB/s \n",
            "\u001b[?25hCollecting PyQt5-sip<13,>=12.8\n",
            "  Downloading PyQt5_sip-12.10.1-cp37-cp37m-manylinux1_x86_64.whl (338 kB)\n",
            "\u001b[K     |████████████████████████████████| 338 kB 51.3 MB/s \n",
            "\u001b[?25hCollecting PyQt5-Qt5>=5.15.2\n",
            "  Downloading PyQt5_Qt5-5.15.2-py3-none-manylinux2014_x86_64.whl (59.9 MB)\n",
            "\u001b[K     |████████████████████████████████| 59.9 MB 1.2 MB/s \n",
            "\u001b[?25hInstalling collected packages: PyQt5-sip, PyQt5-Qt5, PyQt5\n",
            "Successfully installed PyQt5-5.15.6 PyQt5-Qt5-5.15.2 PyQt5-sip-12.10.1\n"
          ]
        }
      ]
    },
    {
      "cell_type": "markdown",
      "metadata": {
        "id": "0iW7-RoPqc-7"
      },
      "source": [
        "## **18 שאלה **"
      ]
    },
    {
      "cell_type": "code",
      "metadata": {
        "id": "UOrw5LqGqdVe",
        "colab": {
          "base_uri": "https://localhost:8080/"
        },
        "outputId": "fc3619f0-f927-4564-f254-1e33b7435c71"
      },
      "source": [
        "selected = [\"FB\",\"GOOG\",\"IBM\",\"HON\",\"UPS\"] # The Name Tiker  \n",
        "start_year = '2009-12-01' \n",
        "end_year = '2021-01-01'\n",
        "\n",
        "#Building the DataBase\n",
        "yf.pdr_override()\n",
        "frame = {}\n",
        "for stock in selected:\n",
        "    data_var = pdr.get_data_yahoo(stock, start_year,end_year)['Adj Close']\n",
        "    data_var.to_frame()\n",
        "    frame.update({stock: data_var})\n",
        "# End Insert Adj Close To DataBase \n",
        "\n",
        "#Mathematical calculations Return Daily And annualy, creation of Number portfolios,\n",
        "table = pd.DataFrame(frame)\n",
        "returns_daily = table.pct_change()\n",
        "\n",
        "returns_Y = (((1+returns_daily.mean())**254)-1)*100\n",
        "Var_Y = (returns_daily.var()*(254))\n",
        "STDEV_Y = (Var_Y**0.5)\n",
        "print(STDEV_Y)\n",
        "\n",
        "print(\"ID : 208604694\")\n",
        "\n",
        "\n",
        "\n"
      ],
      "execution_count": null,
      "outputs": [
        {
          "output_type": "stream",
          "name": "stdout",
          "text": [
            "[*********************100%***********************]  1 of 1 completed\n",
            "[*********************100%***********************]  1 of 1 completed\n",
            "[*********************100%***********************]  1 of 1 completed\n",
            "[*********************100%***********************]  1 of 1 completed\n",
            "[*********************100%***********************]  1 of 1 completed\n",
            "FB      0.375749\n",
            "GOOG    0.260341\n",
            "IBM     0.223909\n",
            "HON     0.237828\n",
            "UPS     0.219887\n",
            "dtype: float64\n",
            "ID : 208604694\n"
          ]
        }
      ]
    },
    {
      "cell_type": "markdown",
      "metadata": {
        "id": "L6B1F0jqEcaV"
      },
      "source": [
        "## **20 שאלה **"
      ]
    },
    {
      "cell_type": "code",
      "metadata": {
        "id": "fW7rYrmYO0mZ",
        "colab": {
          "base_uri": "https://localhost:8080/",
          "height": 722
        },
        "outputId": "0af9cc13-6be7-489c-d313-9ec158364899"
      },
      "source": [
        "yf.pdr_override()  \n",
        "\n",
        "start = '2009-12-01' \n",
        "end = '2021-05-01'\n",
        "all_data={ticker:pdr.get_data_yahoo(ticker,start,end)\n",
        "          for ticker in ['LUMI','USDILS','GOOG']}\t  #Note: GOOG has become GOOGL\n",
        "price=pd.DataFrame({ticker:data['Adj Close']\n",
        "                    for ticker,data in all_data.items()})\n",
        "volume=pd.DataFrame({ticker:data['Volume']\n",
        "                     for ticker,data in all_data.items()})\n",
        "returns=price.pct_change() \n",
        "\n",
        "\n",
        "\n",
        "fig, ax = plt.subplots(figsize=(10,10))   \n",
        "seaborn.heatmap(returns.corr(),annot=True,fmt=\".4f\",ax=ax)\n",
        "plt.show()\n",
        "\n",
        "print(\"ID : 208604694\")\n"
      ],
      "execution_count": null,
      "outputs": [
        {
          "output_type": "stream",
          "name": "stdout",
          "text": [
            "[*********************100%***********************]  1 of 1 completed\n",
            "[*********************100%***********************]  1 of 1 completed\n",
            "\n",
            "1 Failed download:\n",
            "- USDILS: No data found, symbol may be delisted\n",
            "[*********************100%***********************]  1 of 1 completed\n"
          ]
        },
        {
          "output_type": "display_data",
          "data": {
            "text/plain": [
              "<Figure size 720x720 with 2 Axes>"
            ],
            "image/png": "[encoded data removed]"
          },
          "metadata": {
            "needs_background": "light"
          }
        },
        {
          "output_type": "stream",
          "name": "stdout",
          "text": [
            "ID : 208604694\n"
          ]
        }
      ]
    },
    {
      "cell_type": "code",
      "source": [
        "log_return = np.log(1 + data.pct_change())\n",
        "#Plot\n",
        "sns.distplot(log_returns.iloc[1:])\n",
        "plt.xlabel(\"Daily Return\")\n",
        "plt.ylabel(\"Frequency\")"
      ],
      "metadata": {
        "colab": {
          "base_uri": "https://localhost:8080/",
          "height": 241
        },
        "id": "hi-gLSLjh1x2",
        "outputId": "d1e600ed-3bb8-43d8-8d62-fa6797c7f86e"
      },
      "execution_count": null,
      "outputs": [
        {
          "output_type": "error",
          "ename": "NameError",
          "evalue": "ignored",
          "traceback": [
            "\u001b[0;31m---------------------------------------------------------------------------\u001b[0m",
            "\u001b[0;31mNameError\u001b[0m                                 Traceback (most recent call last)",
            "\u001b[0;32m<ipython-input-2-abc3890560cc>\u001b[0m in \u001b[0;36m<module>\u001b[0;34m()\u001b[0m\n\u001b[0;32m----> 1\u001b[0;31m \u001b[0mlog_return\u001b[0m \u001b[0;34m=\u001b[0m \u001b[0mnp\u001b[0m\u001b[0;34m.\u001b[0m\u001b[0mlog\u001b[0m\u001b[0;34m(\u001b[0m\u001b[0;36m1\u001b[0m \u001b[0;34m+\u001b[0m \u001b[0mdata\u001b[0m\u001b[0;34m.\u001b[0m\u001b[0mpct_change\u001b[0m\u001b[0;34m(\u001b[0m\u001b[0;34m)\u001b[0m\u001b[0;34m)\u001b[0m\u001b[0;34m\u001b[0m\u001b[0;34m\u001b[0m\u001b[0m\n\u001b[0m\u001b[1;32m      2\u001b[0m \u001b[0;31m#Plot\u001b[0m\u001b[0;34m\u001b[0m\u001b[0;34m\u001b[0m\u001b[0;34m\u001b[0m\u001b[0m\n\u001b[1;32m      3\u001b[0m \u001b[0msns\u001b[0m\u001b[0;34m.\u001b[0m\u001b[0mdistplot\u001b[0m\u001b[0;34m(\u001b[0m\u001b[0mlog_returns\u001b[0m\u001b[0;34m.\u001b[0m\u001b[0miloc\u001b[0m\u001b[0;34m[\u001b[0m\u001b[0;36m1\u001b[0m\u001b[0;34m:\u001b[0m\u001b[0;34m]\u001b[0m\u001b[0;34m)\u001b[0m\u001b[0;34m\u001b[0m\u001b[0;34m\u001b[0m\u001b[0m\n\u001b[1;32m      4\u001b[0m \u001b[0mplt\u001b[0m\u001b[0;34m.\u001b[0m\u001b[0mxlabel\u001b[0m\u001b[0;34m(\u001b[0m\u001b[0;34m\"Daily Return\"\u001b[0m\u001b[0;34m)\u001b[0m\u001b[0;34m\u001b[0m\u001b[0;34m\u001b[0m\u001b[0m\n\u001b[1;32m      5\u001b[0m \u001b[0mplt\u001b[0m\u001b[0;34m.\u001b[0m\u001b[0mylabel\u001b[0m\u001b[0;34m(\u001b[0m\u001b[0;34m\"Frequency\"\u001b[0m\u001b[0;34m)\u001b[0m\u001b[0;34m\u001b[0m\u001b[0;34m\u001b[0m\u001b[0m\n",
            "\u001b[0;31mNameError\u001b[0m: name 'data' is not defined"
          ]
        }
      ]
    },
    {
      "cell_type": "markdown",
      "metadata": {
        "id": "qPYSzzCiy8Za"
      },
      "source": [
        "# **21 שאלה **"
      ]
    },
    {
      "cell_type": "code",
      "metadata": {
        "id": "NLI9PeNLtImi",
        "colab": {
          "base_uri": "https://localhost:8080/"
        },
        "outputId": "f0f88ee0-2aec-4e56-c773-908c6a5add9b"
      },
      "source": [
        "sharplist=[]\n",
        "portfoliolist=[]\n",
        "selected = [\"GOOG\",\"FB\",\"SPY\",\"LQD\",\"IEI\"] # The Name Tiker  \n",
        "start_year = '2009-12-01' \n",
        "end_year = '2021-01-01'\n",
        "\n",
        "\n",
        "yf.pdr_override()\n",
        "frame = {}\n",
        "for stock in selected:\n",
        "    data_var = pdr.get_data_yahoo(stock, start_year,end_year)['Adj Close']\n",
        "    data_var.to_frame()\n",
        "    frame.update({stock: data_var})\n",
        "\n",
        "port_returns = []\n",
        "port_volatility = []\n",
        "sharpe_ratio = []\n",
        "stock_weights = []\n",
        "table = pd.DataFrame(frame)\n",
        "returns_daily = table.pct_change()\n",
        "returns_annual = ((1+ returns_daily.mean())**250) - 1\n",
        "cov_daily = returns_daily.cov()\n",
        "cov_annual = cov_daily * 250\n",
        "weights=[0.05,0.05,0.4,0.3,0.2]\n",
        "returns = np.dot(weights, returns_annual)\n",
        "volatility = np.sqrt(np.dot(weights, np.dot(cov_annual, weights)))\n",
        "sharpe = returns / volatility\n",
        "sharpe_ratio.append(sharpe)\n",
        "port_returns.append(returns*100)\n",
        "port_volatility.append(volatility*100)\n",
        "portfolio = {'Returns': port_returns,\n",
        "             'Volatility': port_volatility,\n",
        "             'Sharpe Ratio': sharpe_ratio}\n",
        "print(portfolio)\n",
        "sharplist.append(portfolio.get('Sharpe Ratio'))\n",
        "portfoliolist.append(portfolio)\n",
        "\n",
        "print(\"ID : 208604694\")\n",
        "\n"
      ],
      "execution_count": null,
      "outputs": [
        {
          "output_type": "stream",
          "name": "stdout",
          "text": [
            "[*********************100%***********************]  1 of 1 completed\n",
            "[*********************100%***********************]  1 of 1 completed\n",
            "[*********************100%***********************]  1 of 1 completed\n",
            "[*********************100%***********************]  1 of 1 completed\n",
            "[*********************100%***********************]  1 of 1 completed\n",
            "{'Returns': [11.469298986516717], 'Volatility': [9.184146651598219], 'Sharpe Ratio': [1.248814878682369]}\n",
            "ID : 208604694\n"
          ]
        }
      ]
    },
    {
      "cell_type": "markdown",
      "metadata": {
        "id": "1-MDhPDsfYp5"
      },
      "source": [
        "#**22 שאלה **"
      ]
    },
    {
      "cell_type": "code",
      "metadata": {
        "id": "1nEsKzaBW1zM",
        "colab": {
          "base_uri": "https://localhost:8080/"
        },
        "outputId": "719b897d-1f76-48bd-e039-89b161baaf73"
      },
      "source": [
        "selected = [\"XLI\",\"GOOG\",\"FB\",\"SPY\",\"LQD\",\"IEI\"] # The Name Tiker  \n",
        "start_year = '2009-12-01' \n",
        "end_year = '2021-01-01'\n",
        "\n",
        "yf.pdr_override()\n",
        "frame = {}\n",
        "for stock in selected:\n",
        "    data_var = pdr.get_data_yahoo(stock, start_year,end_year)['Adj Close']\n",
        "    data_var.to_frame()\n",
        "    frame.update({stock: data_var})\n",
        "\n",
        "port_returns = []\n",
        "port_volatility = []\n",
        "sharpe_ratio = []\n",
        "stock_weights = []\n",
        "table = pd.DataFrame(frame)\n",
        "returns_daily = table.pct_change()\n",
        "returns_annual = ((1+ returns_daily.mean())**250) - 1\n",
        "cov_daily = returns_daily.cov()\n",
        "cov_annual = cov_daily * 250\n",
        "weights=[0.1,0.05,0.05,0.3,0.3,0.2]\n",
        "returns = np.dot(weights, returns_annual)\n",
        "volatility = np.sqrt(np.dot(weights, np.dot(cov_annual, weights)))\n",
        "sharpe = returns / volatility\n",
        "sharpe_ratio.append(sharpe)\n",
        "port_returns.append(returns*100)\n",
        "port_volatility.append(volatility*100)\n",
        "portfolio = {'Returns': port_returns,\n",
        "             'Volatility': port_volatility,\n",
        "             'Sharpe Ratio': sharpe_ratio}\n",
        "print(portfolio)\n",
        "\n",
        "sharplist.append(portfolio.get('Sharpe Ratio'))\n",
        "portfoliolist.append(portfolio)\n",
        "\n",
        "\n",
        "print(\"ID : 208604694\")\n"
      ],
      "execution_count": null,
      "outputs": [
        {
          "output_type": "stream",
          "name": "stdout",
          "text": [
            "[*********************100%***********************]  1 of 1 completed\n",
            "[*********************100%***********************]  1 of 1 completed\n",
            "[*********************100%***********************]  1 of 1 completed\n",
            "[*********************100%***********************]  1 of 1 completed\n",
            "[*********************100%***********************]  1 of 1 completed\n",
            "[*********************100%***********************]  1 of 1 completed\n",
            "{'Returns': [11.480586458222264], 'Volatility': [9.30648003695541], 'Sharpe Ratio': [1.2336121081905966]}\n",
            "ID : 208604694\n"
          ]
        }
      ]
    },
    {
      "cell_type": "markdown",
      "metadata": {
        "id": "9cHDRg6vfb_N"
      },
      "source": [
        "# *23 שאלה *"
      ]
    },
    {
      "cell_type": "code",
      "metadata": {
        "id": "614lC2XMfnjd",
        "colab": {
          "base_uri": "https://localhost:8080/"
        },
        "outputId": "12026a08-fa7f-4372-803c-817fabf9ae63"
      },
      "source": [
        "selected = [\"XLI\",\"GOOG\",\"FB\",\"SPY\",\"LQD\",\"IEI\"] # The Name Tiker  \n",
        "start_year = '2009-12-01' \n",
        "end_year = '2021-01-01'\n",
        "\n",
        "yf.pdr_override()\n",
        "frame = {}\n",
        "for stock in selected:\n",
        "    data_var = pdr.get_data_yahoo(stock, start_year,end_year)['Adj Close']\n",
        "    data_var.to_frame()\n",
        "    frame.update({stock: data_var})\n",
        "\n",
        "port_returns = []\n",
        "port_volatility = []\n",
        "sharpe_ratio = []\n",
        "stock_weights = []\n",
        "table = pd.DataFrame(frame)\n",
        "returns_daily = table.pct_change()\n",
        "returns_annual = ((1+ returns_daily.mean())**250) - 1\n",
        "cov_daily = returns_daily.cov()\n",
        "cov_annual = cov_daily * 250\n",
        "weights=[0.2,0.05,0.05,0.3,0.2,0.2]\n",
        "returns = np.dot(weights, returns_annual)\n",
        "volatility = np.sqrt(np.dot(weights, np.dot(cov_annual, weights)))\n",
        "sharpe = returns / volatility\n",
        "sharpe_ratio.append(sharpe)\n",
        "port_returns.append(returns*100)\n",
        "port_volatility.append(volatility*100)\n",
        "portfolio = {'Returns': port_returns,\n",
        "             'Volatility': port_volatility,\n",
        "             'Sharpe Ratio': sharpe_ratio}\n",
        "print(portfolio)\n",
        "\n",
        "sharplist.append(portfolio.get('Sharpe Ratio'))\n",
        "portfoliolist.append(portfolio)\n",
        "\n",
        "\n",
        "print(\"ID : 208604694\")\n"
      ],
      "execution_count": null,
      "outputs": [
        {
          "output_type": "stream",
          "name": "stdout",
          "text": [
            "[*********************100%***********************]  1 of 1 completed\n",
            "[*********************100%***********************]  1 of 1 completed\n",
            "[*********************100%***********************]  1 of 1 completed\n",
            "[*********************100%***********************]  1 of 1 completed\n",
            "[*********************100%***********************]  1 of 1 completed\n",
            "[*********************100%***********************]  1 of 1 completed\n",
            "{'Returns': [12.394295655910467], 'Volatility': [10.901285943106927], 'Sharpe Ratio': [1.1369572104241148]}\n",
            "ID : 208604694\n"
          ]
        }
      ]
    },
    {
      "cell_type": "markdown",
      "metadata": {
        "id": "dvNDB4vrg7es"
      },
      "source": [
        "# *24 שאלה *"
      ]
    },
    {
      "cell_type": "code",
      "metadata": {
        "id": "lfp-GcSSg79V",
        "colab": {
          "base_uri": "https://localhost:8080/"
        },
        "outputId": "bbc8ed16-15fd-4338-8778-3355ebda4c6c"
      },
      "source": [
        "maxsharp = max(sharplist)\n",
        "print(portfoliolist[sharplist.index(maxsharp)])\n",
        "\n",
        "print(\"שאלה 21 הוא עם התיק המומלץ\")\n",
        "print(\"ID : 208604694\")\n",
        "\n"
      ],
      "execution_count": null,
      "outputs": [
        {
          "output_type": "stream",
          "name": "stdout",
          "text": [
            "{'Returns': [11.469298986516717], 'Volatility': [9.184146651598219], 'Sharpe Ratio': [1.248814878682369]}\n",
            "שאלה 21 הוא עם התיק המומלץ\n",
            "ID : 208604694\n"
          ]
        }
      ]
    },
    {
      "cell_type": "markdown",
      "metadata": {
        "id": "ToCxfItTn_kz"
      },
      "source": [
        "# *25 שאלה *"
      ]
    },
    {
      "cell_type": "code",
      "metadata": {
        "id": "HoeWuYLcoKhy",
        "colab": {
          "base_uri": "https://localhost:8080/"
        },
        "outputId": "32a75efa-38ea-4e7c-91ae-198f8c35588c"
      },
      "source": [
        "selected = [\"LQD\",\"IEI\",\"GOOG\",\"IBM\",\"FB\",\"UPS\",\"SPY\",\"QQQ\",\"XLI\"] # The Name Tiker  \n",
        "start_year = '2009-12-01' \n",
        "end_year = '2021-01-01'\n",
        "Num_porSimulation = 1000\n",
        "\n",
        "yf.pdr_override()\n",
        "frame = {}\n",
        "\n",
        "for stock in selected:\n",
        "    data_var = pdr.get_data_yahoo(stock, start_year,end_year)['Adj Close']\n",
        "    data_var.to_frame()\n",
        "    frame.update({stock: data_var})\n",
        "\n",
        "port_returns = []\n",
        "port_volatility = []\n",
        "sharpe_ratio = []\n",
        "stock_weights = []\n",
        "table = pd.DataFrame(frame)\n",
        "returns_daily = table.pct_change()\n",
        "returns_annual = ((1+ returns_daily.mean())**250) - 1\n",
        "cov_daily = returns_daily.cov()\n",
        "cov_annual = cov_daily * 250\n",
        "\n",
        "num_assets = len(selected)\n",
        "num_portfolios = Num_porSimulation                                    \n",
        "np.random.seed(101)\n",
        "for single_portfolio in range(num_portfolios):\n",
        "    weights = np.random.random(num_assets)\n",
        "    weights /= np.sum(weights)\n",
        "    returns = np.dot(weights, returns_annual)\n",
        "    volatility = np.sqrt(np.dot(weights.T, np.dot(cov_annual, weights)))\n",
        "    sharpe = returns / volatility\n",
        "    sharpe_ratio.append(sharpe)\n",
        "    port_returns.append(returns*100)\n",
        "    port_volatility.append(volatility*100)\n",
        "    stock_weights.append(weights)\n",
        "    portfolio = {'Returns': port_returns,\n",
        "              'Volatility': port_volatility,\n",
        "              'Sharpe Ratio': sharpe_ratio}\n",
        "\n",
        "for counter,symbol in enumerate(selected):\n",
        "    portfolio[symbol+' Weight'] = [Weight[counter] for Weight in stock_weights]\n",
        "\n",
        " # make a nice dataframe of the extended dictionary\n",
        "df = pd.DataFrame(portfolio)\n",
        "\n",
        "# get better labels for desired arrangement of columns\n",
        "column_order = ['Returns', 'Volatility', 'Sharpe Ratio'] + [stock+' Weight' for stock in selected]\n",
        "\n",
        "# reorder dataframe columns\n",
        "df = df[column_order]   \n",
        "\n",
        "max_sharpe = df['Sharpe Ratio'].max()\n",
        "sharpe_portfolio = df.loc[df['Sharpe Ratio'] == max_sharpe]\n",
        "\n",
        "pd.set_option(\"display.max_rows\", None, \"display.max_columns\", None)\n",
        "\n",
        "print(sharpe_portfolio)\n",
        "\n",
        "\n",
        "print(\"ID : 208604694\")\n"
      ],
      "execution_count": null,
      "outputs": [
        {
          "output_type": "stream",
          "name": "stdout",
          "text": [
            "[*********************100%***********************]  1 of 1 completed\n",
            "[*********************100%***********************]  1 of 1 completed\n",
            "[*********************100%***********************]  1 of 1 completed\n",
            "[*********************100%***********************]  1 of 1 completed\n",
            "[*********************100%***********************]  1 of 1 completed\n",
            "[*********************100%***********************]  1 of 1 completed\n",
            "[*********************100%***********************]  1 of 1 completed\n",
            "[*********************100%***********************]  1 of 1 completed\n",
            "[*********************100%***********************]  1 of 1 completed\n",
            "       Returns  Volatility  Sharpe Ratio  LQD Weight  IEI Weight  GOOG Weight  \\\n",
            "395  14.252378   11.194491       1.27316     0.20328    0.225341     0.138845   \n",
            "\n",
            "     IBM Weight  FB Weight  UPS Weight  SPY Weight  QQQ Weight  XLI Weight  \n",
            "395    0.010554   0.055043    0.010668    0.000619     0.22966     0.12599  \n",
            "ID : 208604694\n"
          ]
        }
      ]
    },
    {
      "cell_type": "markdown",
      "metadata": {
        "id": "pJk3uquxfg_R"
      },
      "source": [
        "# *26 שאלה *"
      ]
    },
    {
      "cell_type": "code",
      "metadata": {
        "id": "kaw1NdyWfjHb",
        "colab": {
          "base_uri": "https://localhost:8080/"
        },
        "outputId": "9bdccf1b-2512-4176-8fe1-36f5fcaf3ede"
      },
      "source": [
        "def implement_bb_strategy(data, lower_bb, upper_bb):\n",
        "    buy_price = []\n",
        "    sell_price = []\n",
        "    bb_signal = []\n",
        "    signal = 0\n",
        "    \n",
        "    for i in range(len(data)):\n",
        "        if data[i-1] > lower_bb[i-1] and data[i] < lower_bb[i]:\n",
        "            if signal != 1:\n",
        "                buy_price.append(data[i])\n",
        "                sell_price.append(np.nan)\n",
        "                signal = 1\n",
        "                bb_signal.append(signal)\n",
        "            else:\n",
        "                buy_price.append(np.nan)\n",
        "                sell_price.append(np.nan)\n",
        "                bb_signal.append(0)\n",
        "        elif data[i-1] < upper_bb[i-1] and data[i] > upper_bb[i]:\n",
        "            if signal != -1:\n",
        "                buy_price.append(np.nan)\n",
        "                sell_price.append(data[i])\n",
        "                signal = -1\n",
        "                bb_signal.append(signal)\n",
        "            else:\n",
        "                buy_price.append(np.nan)\n",
        "                sell_price.append(np.nan)\n",
        "                bb_signal.append(0)\n",
        "        else:\n",
        "            buy_price.append(np.nan)\n",
        "            sell_price.append(np.nan)\n",
        "            bb_signal.append(0)\n",
        "            \n",
        "    return buy_price, sell_price, bb_signal\n",
        "\n",
        "\n",
        "\n",
        "\n",
        "stockprices = yf.download(\"IBM\", start=\"2009-12-01\", end=\"2021-01-01\")\n",
        "\n",
        "\n",
        "stockprices['MA50'] = stockprices['Adj Close'].rolling(window=50).mean()\n",
        "stockprices['50dSTD'] = stockprices['Adj Close'].rolling(window=50).std() \n",
        "stockprices['Upper'] = stockprices['MA50'] + (stockprices['50dSTD'] * 2)\n",
        "stockprices['Lower'] = stockprices['MA50'] - (stockprices['50dSTD'] * 2)\n",
        "\n",
        "stockprices = stockprices.dropna()\n",
        "stockprices = stockprices.iloc[51:]\n",
        "\n",
        "buy_price, sell_price, bb_signal = implement_bb_strategy(stockprices['Adj Close'], stockprices['Lower'], stockprices['Upper'])\n",
        "\n",
        "stockprices[['Adj Close','Lower','Upper']].plot(figsize=(10,4))\n",
        "plt.scatter(stockprices.index, buy_price, marker = '^', color = 'green', label = 'BUY', s = 200)\n",
        "plt.scatter(stockprices.index, sell_price, marker = 'v', color = 'red', label = 'SELL', s = 200)\n",
        "plt.show()\n",
        "\n",
        "print(\"number of green :\")\n",
        "print(np.count_nonzero(~np.isnan(buy_price)))\n",
        "print(\"number of red :\")\n",
        "print(np.count_nonzero(~np.isnan(sell_price)))\n",
        "\n",
        "print(\"ID : 208604694\")\n"
      ],
      "execution_count": null,
      "outputs": [
        {
          "output_type": "stream",
          "name": "stdout",
          "text": [
            "\r[*********************100%***********************]  1 of 1 completed\n"
          ]
        },
        {
          "output_type": "display_data",
          "data": {
            "image/png": "[encoded data removed]",
            "text/plain": [
              "<Figure size 720x288 with 1 Axes>"
            ]
          },
          "metadata": {
            "needs_background": "light"
          }
        },
        {
          "output_type": "stream",
          "name": "stdout",
          "text": [
            "number of green :\n",
            "15\n",
            "number of red :\n",
            "14\n",
            "ID : 208604694\n"
          ]
        }
      ]
    },
    {
      "cell_type": "markdown",
      "metadata": {
        "id": "WuHaGoc0fj_t"
      },
      "source": [
        "# *27 שאלה *"
      ]
    },
    {
      "cell_type": "code",
      "metadata": {
        "id": "kAHY3U81fma2",
        "colab": {
          "base_uri": "https://localhost:8080/",
          "height": 162
        },
        "outputId": "fb52d315-8c0f-442f-9baf-911feaf73b6f"
      },
      "source": [
        "\n",
        "stockprices = yf.download(\"UPS\", start=\"2009-12-01\", end=\"2021-01-01\")\n",
        "#print(stockprices)\n",
        "# End Insert Adj Close To DataBase \n",
        "\n",
        "\n",
        "#Mathematical calculations Return Daily And annualy, creation of Number portfolios,\n",
        "\n",
        "stockprices['MA50'] = stockprices['Adj Close'].rolling(window=50).mean()\n",
        "stockprices['50dSTD'] = stockprices['Adj Close'].rolling(window=50).std() \n",
        "stockprices['Upper'] = stockprices['MA50'] + (stockprices['50dSTD'] * 2)\n",
        "stockprices['Lower'] = stockprices['MA50'] - (stockprices['50dSTD'] * 2)\n",
        "\n",
        "stockprices = stockprices.dropna()\n",
        "stockprices = stockprices.iloc[51:]\n",
        "\n",
        "buy_price, sell_price, bb_signal = implement_bb_strategy(stockprices['Adj Close'], stockprices['Lower'], stockprices['Upper'])\n",
        "\n",
        "stockprices[['Adj Close','Lower','Upper']].plot(figsize=(10,4))\n",
        "plt.scatter(stockprices.index, buy_price, marker = '^', color = 'green', label = 'BUY', s = 200)\n",
        "plt.scatter(stockprices.index, sell_price, marker = 'v', color = 'red', label = 'SELL', s = 200)\n",
        "plt.show()\n",
        "\n",
        "print(\"number of green :\")\n",
        "print(np.count_nonzero(~np.isnan(buy_price)))\n",
        "print(\"number of red :\")\n",
        "print(np.count_nonzero(~np.isnan(sell_price)))\n",
        "\n",
        "\n",
        "print(\"ID : 208604694\")\n",
        "\n"
      ],
      "execution_count": null,
      "outputs": [
        {
          "output_type": "stream",
          "name": "stdout",
          "text": [
            "\r[*********************100%***********************]  1 of 1 completed\n"
          ]
        },
        {
          "output_type": "display_data",
          "data": {
            "image/png": "[encoded data removed]",
            "text/plain": [
              "<Figure size 720x288 with 1 Axes>"
            ]
          },
          "metadata": {
            "needs_background": "light"
          }
        },
        {
          "output_type": "stream",
          "name": "stdout",
          "text": [
            "number of green :\n",
            "15\n",
            "number of red :\n",
            "15\n",
            "ID : 208604694\n"
          ]
        }
      ]
    },
    {
      "cell_type": "markdown",
      "metadata": {
        "id": "qScyh_75Mpmd"
      },
      "source": [
        "# *30 שאלה *"
      ]
    },
    {
      "cell_type": "code",
      "metadata": {
        "id": "J_MDLTtRbbP7",
        "colab": {
          "base_uri": "https://localhost:8080/",
          "height": 1000
        },
        "outputId": "f045d59d-11b9-4402-cda3-77926b6a91ec"
      },
      "source": [
        "class SMAcross(bt.SignalStrategy) :\n",
        "  def __init__(self) :\n",
        "    sma1 , sma2 = bt.ind.SMA(period = 20) , bt.ind.SMA(period = 50)\n",
        "    crossover = bt.ind.CrossOver(sma1,sma2)\n",
        "    self.signal_add(bt.SIGNAL_LONG , crossover)\n",
        "\n",
        "if __name__ == '__main__' :\n",
        "  cerebro = bt.Cerebro()\n",
        "  cerebro.addstrategy(SMAcross)\n",
        "  cerebro.broker.setcash(1337)\n",
        "  cerebro.broker.setcommission(commission = 0.001)\n",
        "  data = bt.feeds.YahooFinanceData(dataname = 'GILT' , fromdate = datetime(2020,1,1) , todate = datetime(2020,12,31))\n",
        "  cerebro.adddata(data)\n",
        "  cerebro.run()\n",
        "  print( cerebro.broker.getvalue())\n",
        "  plt.rcParams['figure.figsize']=[10, 8]\n",
        "  plt.rcParams['font.sans-serif']=['SimHei']\n",
        "  cerebro.plot(iplot = False)\n",
        "\n",
        "  print(\"ID : 208604694\")\n"
      ],
      "execution_count": null,
      "outputs": [
        {
          "output_type": "error",
          "ename": "FileNotFoundError",
          "evalue": "ignored",
          "traceback": [
            "\u001b[0;31m---------------------------------------------------------------------------\u001b[0m",
            "\u001b[0;31mFileNotFoundError\u001b[0m                         Traceback (most recent call last)",
            "\u001b[0;32m<ipython-input-12-45901bf13ca9>\u001b[0m in \u001b[0;36m<module>\u001b[0;34m()\u001b[0m\n\u001b[1;32m     12\u001b[0m   \u001b[0mdata\u001b[0m \u001b[0;34m=\u001b[0m \u001b[0mbt\u001b[0m\u001b[0;34m.\u001b[0m\u001b[0mfeeds\u001b[0m\u001b[0;34m.\u001b[0m\u001b[0mYahooFinanceData\u001b[0m\u001b[0;34m(\u001b[0m\u001b[0mdataname\u001b[0m \u001b[0;34m=\u001b[0m \u001b[0;34m'GILT'\u001b[0m \u001b[0;34m,\u001b[0m \u001b[0mfromdate\u001b[0m \u001b[0;34m=\u001b[0m \u001b[0mdatetime\u001b[0m\u001b[0;34m(\u001b[0m\u001b[0;36m2020\u001b[0m\u001b[0;34m,\u001b[0m\u001b[0;36m1\u001b[0m\u001b[0;34m,\u001b[0m\u001b[0;36m1\u001b[0m\u001b[0;34m)\u001b[0m \u001b[0;34m,\u001b[0m \u001b[0mtodate\u001b[0m \u001b[0;34m=\u001b[0m \u001b[0mdatetime\u001b[0m\u001b[0;34m(\u001b[0m\u001b[0;36m2020\u001b[0m\u001b[0;34m,\u001b[0m\u001b[0;36m12\u001b[0m\u001b[0;34m,\u001b[0m\u001b[0;36m31\u001b[0m\u001b[0;34m)\u001b[0m\u001b[0;34m)\u001b[0m\u001b[0;34m\u001b[0m\u001b[0;34m\u001b[0m\u001b[0m\n\u001b[1;32m     13\u001b[0m   \u001b[0mcerebro\u001b[0m\u001b[0;34m.\u001b[0m\u001b[0madddata\u001b[0m\u001b[0;34m(\u001b[0m\u001b[0mdata\u001b[0m\u001b[0;34m)\u001b[0m\u001b[0;34m\u001b[0m\u001b[0;34m\u001b[0m\u001b[0m\n\u001b[0;32m---> 14\u001b[0;31m   \u001b[0mcerebro\u001b[0m\u001b[0;34m.\u001b[0m\u001b[0mrun\u001b[0m\u001b[0;34m(\u001b[0m\u001b[0;34m)\u001b[0m\u001b[0;34m\u001b[0m\u001b[0;34m\u001b[0m\u001b[0m\n\u001b[0m\u001b[1;32m     15\u001b[0m   \u001b[0mprint\u001b[0m\u001b[0;34m(\u001b[0m \u001b[0mcerebro\u001b[0m\u001b[0;34m.\u001b[0m\u001b[0mbroker\u001b[0m\u001b[0;34m.\u001b[0m\u001b[0mgetvalue\u001b[0m\u001b[0;34m(\u001b[0m\u001b[0;34m)\u001b[0m\u001b[0;34m)\u001b[0m\u001b[0;34m\u001b[0m\u001b[0;34m\u001b[0m\u001b[0m\n\u001b[1;32m     16\u001b[0m   \u001b[0mplt\u001b[0m\u001b[0;34m.\u001b[0m\u001b[0mrcParams\u001b[0m\u001b[0;34m[\u001b[0m\u001b[0;34m'figure.figsize'\u001b[0m\u001b[0;34m]\u001b[0m\u001b[0;34m=\u001b[0m\u001b[0;34m[\u001b[0m\u001b[0;36m10\u001b[0m\u001b[0;34m,\u001b[0m \u001b[0;36m8\u001b[0m\u001b[0;34m]\u001b[0m\u001b[0;34m\u001b[0m\u001b[0;34m\u001b[0m\u001b[0m\n",
            "\u001b[0;32m/usr/local/lib/python3.7/dist-packages/backtrader/cerebro.py\u001b[0m in \u001b[0;36mrun\u001b[0;34m(self, **kwargs)\u001b[0m\n\u001b[1;32m   1125\u001b[0m             \u001b[0;31m# let's skip process \"spawning\"\u001b[0m\u001b[0;34m\u001b[0m\u001b[0;34m\u001b[0m\u001b[0;34m\u001b[0m\u001b[0m\n\u001b[1;32m   1126\u001b[0m             \u001b[0;32mfor\u001b[0m \u001b[0miterstrat\u001b[0m \u001b[0;32min\u001b[0m \u001b[0miterstrats\u001b[0m\u001b[0;34m:\u001b[0m\u001b[0;34m\u001b[0m\u001b[0;34m\u001b[0m\u001b[0m\n\u001b[0;32m-> 1127\u001b[0;31m                 \u001b[0mrunstrat\u001b[0m \u001b[0;34m=\u001b[0m \u001b[0mself\u001b[0m\u001b[0;34m.\u001b[0m\u001b[0mrunstrategies\u001b[0m\u001b[0;34m(\u001b[0m\u001b[0miterstrat\u001b[0m\u001b[0;34m)\u001b[0m\u001b[0;34m\u001b[0m\u001b[0;34m\u001b[0m\u001b[0m\n\u001b[0m\u001b[1;32m   1128\u001b[0m                 \u001b[0mself\u001b[0m\u001b[0;34m.\u001b[0m\u001b[0mrunstrats\u001b[0m\u001b[0;34m.\u001b[0m\u001b[0mappend\u001b[0m\u001b[0;34m(\u001b[0m\u001b[0mrunstrat\u001b[0m\u001b[0;34m)\u001b[0m\u001b[0;34m\u001b[0m\u001b[0;34m\u001b[0m\u001b[0m\n\u001b[1;32m   1129\u001b[0m                 \u001b[0;32mif\u001b[0m \u001b[0mself\u001b[0m\u001b[0;34m.\u001b[0m\u001b[0m_dooptimize\u001b[0m\u001b[0;34m:\u001b[0m\u001b[0;34m\u001b[0m\u001b[0;34m\u001b[0m\u001b[0m\n",
            "\u001b[0;32m/usr/local/lib/python3.7/dist-packages/backtrader/cerebro.py\u001b[0m in \u001b[0;36mrunstrategies\u001b[0;34m(self, iterstrat, predata)\u001b[0m\n\u001b[1;32m   1208\u001b[0m                 \u001b[0;32mif\u001b[0m \u001b[0mself\u001b[0m\u001b[0;34m.\u001b[0m\u001b[0m_exactbars\u001b[0m \u001b[0;34m<\u001b[0m \u001b[0;36m1\u001b[0m\u001b[0;34m:\u001b[0m  \u001b[0;31m# datas can be full length\u001b[0m\u001b[0;34m\u001b[0m\u001b[0;34m\u001b[0m\u001b[0m\n\u001b[1;32m   1209\u001b[0m                     \u001b[0mdata\u001b[0m\u001b[0;34m.\u001b[0m\u001b[0mextend\u001b[0m\u001b[0;34m(\u001b[0m\u001b[0msize\u001b[0m\u001b[0;34m=\u001b[0m\u001b[0mself\u001b[0m\u001b[0;34m.\u001b[0m\u001b[0mparams\u001b[0m\u001b[0;34m.\u001b[0m\u001b[0mlookahead\u001b[0m\u001b[0;34m)\u001b[0m\u001b[0;34m\u001b[0m\u001b[0;34m\u001b[0m\u001b[0m\n\u001b[0;32m-> 1210\u001b[0;31m                 \u001b[0mdata\u001b[0m\u001b[0;34m.\u001b[0m\u001b[0m_start\u001b[0m\u001b[0;34m(\u001b[0m\u001b[0;34m)\u001b[0m\u001b[0;34m\u001b[0m\u001b[0;34m\u001b[0m\u001b[0m\n\u001b[0m\u001b[1;32m   1211\u001b[0m                 \u001b[0;32mif\u001b[0m \u001b[0mself\u001b[0m\u001b[0;34m.\u001b[0m\u001b[0m_dopreload\u001b[0m\u001b[0;34m:\u001b[0m\u001b[0;34m\u001b[0m\u001b[0;34m\u001b[0m\u001b[0m\n\u001b[1;32m   1212\u001b[0m                     \u001b[0mdata\u001b[0m\u001b[0;34m.\u001b[0m\u001b[0mpreload\u001b[0m\u001b[0;34m(\u001b[0m\u001b[0;34m)\u001b[0m\u001b[0;34m\u001b[0m\u001b[0;34m\u001b[0m\u001b[0m\n",
            "\u001b[0;32m/usr/local/lib/python3.7/dist-packages/backtrader/feed.py\u001b[0m in \u001b[0;36m_start\u001b[0;34m(self)\u001b[0m\n\u001b[1;32m    201\u001b[0m \u001b[0;34m\u001b[0m\u001b[0m\n\u001b[1;32m    202\u001b[0m     \u001b[0;32mdef\u001b[0m \u001b[0m_start\u001b[0m\u001b[0;34m(\u001b[0m\u001b[0mself\u001b[0m\u001b[0;34m)\u001b[0m\u001b[0;34m:\u001b[0m\u001b[0;34m\u001b[0m\u001b[0;34m\u001b[0m\u001b[0m\n\u001b[0;32m--> 203\u001b[0;31m         \u001b[0mself\u001b[0m\u001b[0;34m.\u001b[0m\u001b[0mstart\u001b[0m\u001b[0;34m(\u001b[0m\u001b[0;34m)\u001b[0m\u001b[0;34m\u001b[0m\u001b[0;34m\u001b[0m\u001b[0m\n\u001b[0m\u001b[1;32m    204\u001b[0m \u001b[0;34m\u001b[0m\u001b[0m\n\u001b[1;32m    205\u001b[0m         \u001b[0;32mif\u001b[0m \u001b[0;32mnot\u001b[0m \u001b[0mself\u001b[0m\u001b[0;34m.\u001b[0m\u001b[0m_started\u001b[0m\u001b[0;34m:\u001b[0m\u001b[0;34m\u001b[0m\u001b[0;34m\u001b[0m\u001b[0m\n",
            "\u001b[0;32m/usr/local/lib/python3.7/dist-packages/backtrader/feeds/yahoo.py\u001b[0m in \u001b[0;36mstart\u001b[0;34m(self)\u001b[0m\n\u001b[1;32m    353\u001b[0m \u001b[0;34m\u001b[0m\u001b[0m\n\u001b[1;32m    354\u001b[0m         \u001b[0;31m# Prepared a \"path\" file -  CSV Parser can take over\u001b[0m\u001b[0;34m\u001b[0m\u001b[0;34m\u001b[0m\u001b[0;34m\u001b[0m\u001b[0m\n\u001b[0;32m--> 355\u001b[0;31m         \u001b[0msuper\u001b[0m\u001b[0;34m(\u001b[0m\u001b[0mYahooFinanceData\u001b[0m\u001b[0;34m,\u001b[0m \u001b[0mself\u001b[0m\u001b[0;34m)\u001b[0m\u001b[0;34m.\u001b[0m\u001b[0mstart\u001b[0m\u001b[0;34m(\u001b[0m\u001b[0;34m)\u001b[0m\u001b[0;34m\u001b[0m\u001b[0;34m\u001b[0m\u001b[0m\n\u001b[0m\u001b[1;32m    356\u001b[0m \u001b[0;34m\u001b[0m\u001b[0m\n\u001b[1;32m    357\u001b[0m \u001b[0;34m\u001b[0m\u001b[0m\n",
            "\u001b[0;32m/usr/local/lib/python3.7/dist-packages/backtrader/feeds/yahoo.py\u001b[0m in \u001b[0;36mstart\u001b[0;34m(self)\u001b[0m\n\u001b[1;32m     92\u001b[0m \u001b[0;34m\u001b[0m\u001b[0m\n\u001b[1;32m     93\u001b[0m     \u001b[0;32mdef\u001b[0m \u001b[0mstart\u001b[0m\u001b[0;34m(\u001b[0m\u001b[0mself\u001b[0m\u001b[0;34m)\u001b[0m\u001b[0;34m:\u001b[0m\u001b[0;34m\u001b[0m\u001b[0;34m\u001b[0m\u001b[0m\n\u001b[0;32m---> 94\u001b[0;31m         \u001b[0msuper\u001b[0m\u001b[0;34m(\u001b[0m\u001b[0mYahooFinanceCSVData\u001b[0m\u001b[0;34m,\u001b[0m \u001b[0mself\u001b[0m\u001b[0;34m)\u001b[0m\u001b[0;34m.\u001b[0m\u001b[0mstart\u001b[0m\u001b[0;34m(\u001b[0m\u001b[0;34m)\u001b[0m\u001b[0;34m\u001b[0m\u001b[0;34m\u001b[0m\u001b[0m\n\u001b[0m\u001b[1;32m     95\u001b[0m \u001b[0;34m\u001b[0m\u001b[0m\n\u001b[1;32m     96\u001b[0m         \u001b[0;32mif\u001b[0m \u001b[0;32mnot\u001b[0m \u001b[0mself\u001b[0m\u001b[0;34m.\u001b[0m\u001b[0mparams\u001b[0m\u001b[0;34m.\u001b[0m\u001b[0mreverse\u001b[0m\u001b[0;34m:\u001b[0m\u001b[0;34m\u001b[0m\u001b[0;34m\u001b[0m\u001b[0m\n",
            "\u001b[0;32m/usr/local/lib/python3.7/dist-packages/backtrader/feed.py\u001b[0m in \u001b[0;36mstart\u001b[0;34m(self)\u001b[0m\n\u001b[1;32m    672\u001b[0m             \u001b[0;32melse\u001b[0m\u001b[0;34m:\u001b[0m\u001b[0;34m\u001b[0m\u001b[0;34m\u001b[0m\u001b[0m\n\u001b[1;32m    673\u001b[0m                 \u001b[0;31m# Let an exception propagate to let the caller know\u001b[0m\u001b[0;34m\u001b[0m\u001b[0;34m\u001b[0m\u001b[0;34m\u001b[0m\u001b[0m\n\u001b[0;32m--> 674\u001b[0;31m                 \u001b[0mself\u001b[0m\u001b[0;34m.\u001b[0m\u001b[0mf\u001b[0m \u001b[0;34m=\u001b[0m \u001b[0mio\u001b[0m\u001b[0;34m.\u001b[0m\u001b[0mopen\u001b[0m\u001b[0;34m(\u001b[0m\u001b[0mself\u001b[0m\u001b[0;34m.\u001b[0m\u001b[0mp\u001b[0m\u001b[0;34m.\u001b[0m\u001b[0mdataname\u001b[0m\u001b[0;34m,\u001b[0m \u001b[0;34m'r'\u001b[0m\u001b[0;34m)\u001b[0m\u001b[0;34m\u001b[0m\u001b[0;34m\u001b[0m\u001b[0m\n\u001b[0m\u001b[1;32m    675\u001b[0m \u001b[0;34m\u001b[0m\u001b[0m\n\u001b[1;32m    676\u001b[0m         \u001b[0;32mif\u001b[0m \u001b[0mself\u001b[0m\u001b[0;34m.\u001b[0m\u001b[0mp\u001b[0m\u001b[0;34m.\u001b[0m\u001b[0mheaders\u001b[0m\u001b[0;34m:\u001b[0m\u001b[0;34m\u001b[0m\u001b[0;34m\u001b[0m\u001b[0m\n",
            "\u001b[0;31mFileNotFoundError\u001b[0m: [Errno 2] No such file or directory: 'GILT'"
          ]
        }
      ]
    },
    {
      "cell_type": "markdown",
      "metadata": {
        "id": "dRj9D4ITa2Ya"
      },
      "source": [
        "# *31 שאלה *"
      ]
    },
    {
      "cell_type": "code",
      "metadata": {
        "id": "YgQlp-tIa1zG"
      },
      "source": [
        "class SMAcross(bt.SignalStrategy) :\n",
        "  def __init__(self) :\n",
        "    sma1 , sma2 = bt.ind.SMA(period = 20) , bt.ind.SMA(period = 50)\n",
        "    crossover = bt.ind.CrossOver(sma1,sma2)\n",
        "    self.signal_add(bt.SIGNAL_LONG , crossover)\n",
        "\n",
        "if __name__ == '__main__' :\n",
        "  cerebro = bt.Cerebro()\n",
        "  cerebro.addstrategy(SMAcross)\n",
        "  cerebro.broker.setcash(1337)\n",
        "  cerebro.broker.setcommission(commission = 0.001)\n",
        "  data = bt.feeds.YahooFinanceData(dataname = 'QQQ' , fromdate = datetime(2020,1,1) , todate = datetime(2020,12,31))\n",
        "  cerebro.adddata(data)\n",
        "  cerebro.run()\n",
        "  print( cerebro.broker.getvalue())\n",
        "  plt.rcParams['figure.figsize']=[10, 8]\n",
        "  plt.rcParams['font.sans-serif']=['SimHei']\n",
        "  cerebro.plot(iplot = False)\n",
        "\n",
        "\n",
        "  print(\"ID : 208604694\")\n"
      ],
      "execution_count": null,
      "outputs": []
    },
    {
      "cell_type": "markdown",
      "metadata": {
        "id": "evEOZ5iFa23u"
      },
      "source": [
        "# *32 שאלה *"
      ]
    },
    {
      "cell_type": "code",
      "metadata": {
        "id": "OB16DdUza3VZ"
      },
      "source": [
        "from matplotlib.pyplot import figure\n",
        "\n",
        "class SMAcross(bt.SignalStrategy) :\n",
        "  def __init__(self) :\n",
        "    sma1 , sma2 = bt.ind.SMA(period = 20) , bt.ind.SMA(period = 50)\n",
        "    crossover = bt.ind.CrossOver(sma1,sma2)\n",
        "    self.signal_add(bt.SIGNAL_LONG , crossover)\n",
        "\n",
        "if __name__ == '__main__' :\n",
        "  cerebro = bt.Cerebro()\n",
        "  cerebro.addstrategy(SMAcross)\n",
        "  cerebro.broker.setcash(1337)\n",
        "  cerebro.broker.setcommission(commission = 0.001)\n",
        "  data = bt.feeds.YahooFinanceData(dataname = 'SPY' , fromdate = datetime(2020,1,1) , todate = datetime(2020,12,31))\n",
        "  cerebro.adddata(data)\n",
        "  cerebro.run()\n",
        "  print( cerebro.broker.getvalue())\n",
        "  plt.rcParams['figure.figsize']=[10, 8]\n",
        "  plt.rcParams['font.sans-serif']=['SimHei']\n",
        "\n",
        "  cerebro.plot(iplot = False)\n",
        "\n",
        "\n",
        "  print(\"ID : 208604694\")\n"
      ],
      "execution_count": null,
      "outputs": []
    },
    {
      "cell_type": "markdown",
      "metadata": {
        "id": "B7ZDRYkS8tdO"
      },
      "source": [
        "# *40 שאלה *"
      ]
    },
    {
      "cell_type": "code",
      "metadata": {
        "id": "ZC8undrk8zeT"
      },
      "source": [
        "qqq = pdr.get_data_yahoo(\"QQQ\",\n",
        "                            start = '2009-12-01',\n",
        "                            end = '2021-05-01')\n",
        "\n",
        "qqq_daily_returns = qqq['Adj Close'].pct_change()\n",
        "print(qqq_daily_returns.head())\n",
        "\n",
        "fig = plt.figure()\n",
        "ax1 = fig.add_axes([0.1,0.1,0.8,0.8])\n",
        "ax1.plot(qqq_daily_returns)\n",
        "ax1.set_xlabel(\"Date\")\n",
        "ax1.set_ylabel(\"Percent\")\n",
        "ax1.set_title(\"qqq daily returns data\")\n",
        "plt.show()\n",
        "\n",
        "print(\"ID : 208604694\")\n"
      ],
      "execution_count": null,
      "outputs": []
    },
    {
      "cell_type": "markdown",
      "metadata": {
        "id": "dLlEE8KX5H0D"
      },
      "source": [
        "# *43  שאלה *"
      ]
    },
    {
      "cell_type": "code",
      "metadata": {
        "id": "YhGEpkFu5IOw"
      },
      "source": [
        "selected = [\"GOOG\",\"FB\",\"AMZN\"] # The Name Tiker  \n",
        "start_year = '2019-01-01' \n",
        "end_year = '2021-06-20'\n",
        "\n",
        "#Building the DataBase\n",
        "yf.pdr_override()\n",
        "frame = {}\n",
        "for stock in selected:\n",
        "    data_var = pdr.get_data_yahoo(stock, start_year,end_year)['Adj Close']\n",
        "    data_var.to_frame()\n",
        "    frame.update({stock: data_var})\n",
        "table = pd.DataFrame(frame)\n",
        "table.plot(figsize=(12,6))\n",
        "\n",
        "print(\"ID : 208604694\")\n"
      ],
      "execution_count": null,
      "outputs": []
    }
  ]
}